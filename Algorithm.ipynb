{
 "cells": [
  {
   "cell_type": "markdown",
   "metadata": {},
   "source": [
    "# Import Image"
   ]
  },
  {
   "cell_type": "code",
   "execution_count": 60,
   "metadata": {
    "collapsed": false
   },
   "outputs": [
    {
     "name": "stdout",
     "output_type": "stream",
     "text": [
      "(1768, 2048)\n"
     ]
    }
   ],
   "source": [
    "try:\n",
    "    from PIL import Image\n",
    "except ImportError:\n",
    "    import Image\n",
    "import numpy\n",
    "import matplotlib.pyplot as plt\n",
    "from matplotlib.pyplot import step\n",
    "from skimage import data, io, filters\n",
    "\n",
    "sample = numpy.asarray(Image.open('CQ2CL2  TT 10000 x  - 1.1-.tif').convert('L'))\n",
    "\n",
    "# remove information portion of image at bottom\n",
    "# 1768 [255 255 255 ..., 255 255 255]\n",
    "sample = sample[:][:1768]\n",
    "print sample.shape\n",
    "io.imshow(sample)\n",
    "io.show()"
   ]
  },
  {
   "cell_type": "markdown",
   "metadata": {},
   "source": [
    "# Thresholding"
   ]
  },
  {
   "cell_type": "code",
   "execution_count": 61,
   "metadata": {
    "collapsed": false
   },
   "outputs": [
    {
     "name": "stdout",
     "output_type": "stream",
     "text": [
      "Min: 0, Max: 255 Thresh: 102\n",
      "<type 'numpy.ndarray'>\n"
     ]
    }
   ],
   "source": [
    "thresh = filters.threshold_otsu(sample)\n",
    "\n",
    "print 'Min: %i, Max: %i Thresh: %i' % (numpy.amin(sample),numpy.amax(sample), thresh)\n",
    "binary = sample > thresh\n",
    "print type(binary)\n",
    "#binary = binary.astype(int)\n",
    "io.imshow(binary)\n",
    "io.show()"
   ]
  },
  {
   "cell_type": "markdown",
   "metadata": {},
   "source": [
    "# Blobs"
   ]
  },
  {
   "cell_type": "code",
   "execution_count": 62,
   "metadata": {
    "collapsed": false
   },
   "outputs": [
    {
     "name": "stdout",
     "output_type": "stream",
     "text": [
      "Number of blobs: 27050\n",
      "27050 0\n",
      "818953 (1768, 2048)\n"
     ]
    }
   ],
   "source": [
    "from scipy import ndimage\n",
    "blobs, number_of_blobs = ndimage.label(binary)\n",
    "\n",
    "print 'Number of blobs:', number_of_blobs\n",
    "print numpy.amax(blobs), numpy.amin(blobs)\n",
    "print numpy.count_nonzero(blobs), blobs.shape\n",
    "\n",
    "plt.imshow(blobs)\n",
    "plt.show()"
   ]
  },
  {
   "cell_type": "code",
   "execution_count": 26,
   "metadata": {
    "collapsed": false
   },
   "outputs": [
    {
     "name": "stdout",
     "output_type": "stream",
     "text": [
      "188\n",
      "445\n",
      "1\n",
      "1\n",
      "7\n",
      "21\n",
      "108\n",
      "172\n",
      "44\n"
     ]
    }
   ],
   "source": [
    "def get_blob_as_array(m,idx):\n",
    "    blob = []\n",
    "    M,N = m.shape\n",
    "    for i in range(M):\n",
    "        for j in range(N):\n",
    "            if m[i][j]==idx:\n",
    "                blob.append([i,j])\n",
    "    return blob\n",
    "\n",
    "for i in range(1,10):\n",
    "    print len(get_blob_as_array(blobs,i))\n",
    "\n"
   ]
  }
 ],
 "metadata": {
  "kernelspec": {
   "display_name": "Python 2",
   "language": "python",
   "name": "python2"
  },
  "language_info": {
   "codemirror_mode": {
    "name": "ipython",
    "version": 2
   },
   "file_extension": ".py",
   "mimetype": "text/x-python",
   "name": "python",
   "nbconvert_exporter": "python",
   "pygments_lexer": "ipython2",
   "version": "2.7.10"
  }
 },
 "nbformat": 4,
 "nbformat_minor": 0
}
